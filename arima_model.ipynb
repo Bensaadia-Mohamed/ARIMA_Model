{
 "cells": [
  {
   "attachments": {},
   "cell_type": "markdown",
   "metadata": {},
   "source": [
    "Import Liberies\n"
   ]
  },
  {
   "cell_type": "code",
   "execution_count": 1,
   "metadata": {},
   "outputs": [],
   "source": [
    "import pandas as pd\n",
    "import numpy as np\n",
    "import math\n",
    "import matplotlib.pyplot as plt\n",
    "from statsmodels.tsa.stattools import adfuller\n",
    "from statsmodels.tsa.arima.model import ARIMA\n",
    "from pmdarima import auto_arima"
   ]
  },
  {
   "attachments": {},
   "cell_type": "markdown",
   "metadata": {},
   "source": [
    "Get Data\n"
   ]
  },
  {
   "cell_type": "code",
   "execution_count": 53,
   "metadata": {},
   "outputs": [
    {
     "data": {
      "text/html": [
       "<div>\n",
       "<style scoped>\n",
       "    .dataframe tbody tr th:only-of-type {\n",
       "        vertical-align: middle;\n",
       "    }\n",
       "\n",
       "    .dataframe tbody tr th {\n",
       "        vertical-align: top;\n",
       "    }\n",
       "\n",
       "    .dataframe thead th {\n",
       "        text-align: right;\n",
       "    }\n",
       "</style>\n",
       "<table border=\"1\" class=\"dataframe\">\n",
       "  <thead>\n",
       "    <tr style=\"text-align: right;\">\n",
       "      <th></th>\n",
       "      <th>Date</th>\n",
       "      <th>Open</th>\n",
       "      <th>High</th>\n",
       "      <th>Low</th>\n",
       "      <th>Close</th>\n",
       "      <th>Adj Close</th>\n",
       "      <th>Volume</th>\n",
       "    </tr>\n",
       "  </thead>\n",
       "  <tbody>\n",
       "    <tr>\n",
       "      <th>0</th>\n",
       "      <td>2022-03-07</td>\n",
       "      <td>163.360001</td>\n",
       "      <td>165.020004</td>\n",
       "      <td>159.039993</td>\n",
       "      <td>159.300003</td>\n",
       "      <td>158.340836</td>\n",
       "      <td>96418800</td>\n",
       "    </tr>\n",
       "    <tr>\n",
       "      <th>1</th>\n",
       "      <td>2022-03-08</td>\n",
       "      <td>158.820007</td>\n",
       "      <td>162.880005</td>\n",
       "      <td>155.800003</td>\n",
       "      <td>157.440002</td>\n",
       "      <td>156.492004</td>\n",
       "      <td>131148300</td>\n",
       "    </tr>\n",
       "    <tr>\n",
       "      <th>2</th>\n",
       "      <td>2022-03-09</td>\n",
       "      <td>161.479996</td>\n",
       "      <td>163.410004</td>\n",
       "      <td>159.410004</td>\n",
       "      <td>162.949997</td>\n",
       "      <td>161.968842</td>\n",
       "      <td>91454900</td>\n",
       "    </tr>\n",
       "    <tr>\n",
       "      <th>3</th>\n",
       "      <td>2022-03-10</td>\n",
       "      <td>160.199997</td>\n",
       "      <td>160.389999</td>\n",
       "      <td>155.979996</td>\n",
       "      <td>158.520004</td>\n",
       "      <td>157.565521</td>\n",
       "      <td>105342000</td>\n",
       "    </tr>\n",
       "    <tr>\n",
       "      <th>4</th>\n",
       "      <td>2022-03-11</td>\n",
       "      <td>158.929993</td>\n",
       "      <td>159.279999</td>\n",
       "      <td>154.500000</td>\n",
       "      <td>154.729996</td>\n",
       "      <td>153.798325</td>\n",
       "      <td>96970100</td>\n",
       "    </tr>\n",
       "    <tr>\n",
       "      <th>...</th>\n",
       "      <td>...</td>\n",
       "      <td>...</td>\n",
       "      <td>...</td>\n",
       "      <td>...</td>\n",
       "      <td>...</td>\n",
       "      <td>...</td>\n",
       "      <td>...</td>\n",
       "    </tr>\n",
       "    <tr>\n",
       "      <th>247</th>\n",
       "      <td>2023-03-01</td>\n",
       "      <td>146.830002</td>\n",
       "      <td>147.229996</td>\n",
       "      <td>145.009995</td>\n",
       "      <td>145.309998</td>\n",
       "      <td>145.309998</td>\n",
       "      <td>55479000</td>\n",
       "    </tr>\n",
       "    <tr>\n",
       "      <th>248</th>\n",
       "      <td>2023-03-02</td>\n",
       "      <td>144.380005</td>\n",
       "      <td>146.710007</td>\n",
       "      <td>143.899994</td>\n",
       "      <td>145.910004</td>\n",
       "      <td>145.910004</td>\n",
       "      <td>52238100</td>\n",
       "    </tr>\n",
       "    <tr>\n",
       "      <th>249</th>\n",
       "      <td>2023-03-03</td>\n",
       "      <td>148.039993</td>\n",
       "      <td>151.110001</td>\n",
       "      <td>147.330002</td>\n",
       "      <td>151.029999</td>\n",
       "      <td>151.029999</td>\n",
       "      <td>70668500</td>\n",
       "    </tr>\n",
       "    <tr>\n",
       "      <th>250</th>\n",
       "      <td>2023-03-06</td>\n",
       "      <td>153.789993</td>\n",
       "      <td>156.300003</td>\n",
       "      <td>153.460007</td>\n",
       "      <td>153.830002</td>\n",
       "      <td>153.830002</td>\n",
       "      <td>87410100</td>\n",
       "    </tr>\n",
       "    <tr>\n",
       "      <th>251</th>\n",
       "      <td>2023-03-07</td>\n",
       "      <td>153.699997</td>\n",
       "      <td>154.029907</td>\n",
       "      <td>151.130005</td>\n",
       "      <td>151.600006</td>\n",
       "      <td>151.600006</td>\n",
       "      <td>54761336</td>\n",
       "    </tr>\n",
       "  </tbody>\n",
       "</table>\n",
       "<p>252 rows × 7 columns</p>\n",
       "</div>"
      ],
      "text/plain": [
       "           Date        Open        High         Low       Close   Adj Close  \\\n",
       "0    2022-03-07  163.360001  165.020004  159.039993  159.300003  158.340836   \n",
       "1    2022-03-08  158.820007  162.880005  155.800003  157.440002  156.492004   \n",
       "2    2022-03-09  161.479996  163.410004  159.410004  162.949997  161.968842   \n",
       "3    2022-03-10  160.199997  160.389999  155.979996  158.520004  157.565521   \n",
       "4    2022-03-11  158.929993  159.279999  154.500000  154.729996  153.798325   \n",
       "..          ...         ...         ...         ...         ...         ...   \n",
       "247  2023-03-01  146.830002  147.229996  145.009995  145.309998  145.309998   \n",
       "248  2023-03-02  144.380005  146.710007  143.899994  145.910004  145.910004   \n",
       "249  2023-03-03  148.039993  151.110001  147.330002  151.029999  151.029999   \n",
       "250  2023-03-06  153.789993  156.300003  153.460007  153.830002  153.830002   \n",
       "251  2023-03-07  153.699997  154.029907  151.130005  151.600006  151.600006   \n",
       "\n",
       "        Volume  \n",
       "0     96418800  \n",
       "1    131148300  \n",
       "2     91454900  \n",
       "3    105342000  \n",
       "4     96970100  \n",
       "..         ...  \n",
       "247   55479000  \n",
       "248   52238100  \n",
       "249   70668500  \n",
       "250   87410100  \n",
       "251   54761336  \n",
       "\n",
       "[252 rows x 7 columns]"
      ]
     },
     "execution_count": 53,
     "metadata": {},
     "output_type": "execute_result"
    }
   ],
   "source": [
    "dataSet=pd.read_csv('../AAPL.csv')\n",
    "# dataSet=pd.read_csv('../AAPL.csv',index_col=\"Date\")\n",
    "dataSet"
   ]
  },
  {
   "attachments": {},
   "cell_type": "markdown",
   "metadata": {},
   "source": [
    "Filtter DataFrame"
   ]
  },
  {
   "cell_type": "code",
   "execution_count": 54,
   "metadata": {},
   "outputs": [
    {
     "data": {
      "text/plain": [
       "0      159.300003\n",
       "1      157.440002\n",
       "2      162.949997\n",
       "3      158.520004\n",
       "4      154.729996\n",
       "          ...    \n",
       "247    145.309998\n",
       "248    145.910004\n",
       "249    151.029999\n",
       "250    153.830002\n",
       "251    151.600006\n",
       "Name: Close, Length: 252, dtype: float64"
      ]
     },
     "execution_count": 54,
     "metadata": {},
     "output_type": "execute_result"
    }
   ],
   "source": [
    "df=dataSet['Close']\n",
    "df\n"
   ]
  },
  {
   "attachments": {},
   "cell_type": "markdown",
   "metadata": {},
   "source": [
    "Plotting Data"
   ]
  },
  {
   "cell_type": "code",
   "execution_count": 55,
   "metadata": {},
   "outputs": [
    {
     "data": {
      "text/plain": [
       "<Axes: title={'center': 'AAPL DataSet'}, xlabel='Date', ylabel='Close Price'>"
      ]
     },
     "execution_count": 55,
     "metadata": {},
     "output_type": "execute_result"
    },
    {
     "data": {
      "image/png": "[encoded data removed]",
      "text/plain": [
       "<Figure size 1600x500 with 1 Axes>"
      ]
     },
     "metadata": {},
     "output_type": "display_data"
    }
   ],
   "source": [
    "df.plot(figsize=(16,5),xlabel='Date',ylabel='Close Price',title=\"AAPL DataSet\",legend=\"Close\")"
   ]
  },
  {
   "attachments": {},
   "cell_type": "markdown",
   "metadata": {},
   "source": [
    "Check For Stationarity"
   ]
  },
  {
   "cell_type": "code",
   "execution_count": 6,
   "metadata": {},
   "outputs": [],
   "source": [
    "# dftest=adfuller(dataSet['Close'],autolag=\"AIC\")\n",
    "# print(f\"1- ADF :{dftest[0]}\")\n",
    "# print(f\"2- P-Value :{dftest[1]}\")\n",
    "# print(f\"3- Num Of Lags : {dftest[2]}\")\n",
    "# print(f\"Num Of Obs Used For ADF Reg And CVC : {dftest[3]}\")\n",
    "# print(f\"Critical Values :\")\n",
    "# for key,val in dftest[4].items():\n",
    "#     print(f\"\\t ,{key} : {val}\")"
   ]
  },
  {
   "attachments": {},
   "cell_type": "markdown",
   "metadata": {},
   "source": [
    "Split Data into Training and Testing Data"
   ]
  },
  {
   "cell_type": "code",
   "execution_count": 59,
   "metadata": {},
   "outputs": [],
   "source": [
    "# number of data train\n",
    "num_data_train = math.floor(len(df)*.75)\n",
    "# get x_train and x_test\n",
    "train=dataSet['Close'][:num_data_train]\n",
    "test=dataSet['Close'][num_data_train:]"
   ]
  },
  {
   "attachments": {},
   "cell_type": "markdown",
   "metadata": {},
   "source": [
    "Plot Train Data and Test Data"
   ]
  },
  {
   "cell_type": "code",
   "execution_count": 47,
   "metadata": {},
   "outputs": [],
   "source": [
    "# plt.figure(figsize=(16,6))\n",
    "# # plt.grid(True)\n",
    "# plt.xlabel(\"Date\")\n",
    "# plt.ylabel(\"Close Price\")\n",
    "# plt.plot(train,\"green\",label=\"Train Data\")\n",
    "# plt.plot(test,\"red\",label=\"Test Data\")\n",
    "# plt.legend()\n",
    "# plt.show()"
   ]
  },
  {
   "attachments": {},
   "cell_type": "markdown",
   "metadata": {},
   "source": [
    "Order For ARIMA Model with Auto_arima"
   ]
  },
  {
   "cell_type": "code",
   "execution_count": 60,
   "metadata": {},
   "outputs": [
    {
     "name": "stdout",
     "output_type": "stream",
     "text": [
      "Performing stepwise search to minimize aic\n",
      " ARIMA(2,1,2)(0,0,0)[0] intercept   : AIC=inf, Time=3.11 sec\n",
      " ARIMA(0,1,0)(0,0,0)[0] intercept   : AIC=1318.384, Time=0.08 sec\n",
      " ARIMA(1,1,0)(0,0,0)[0] intercept   : AIC=1319.545, Time=0.26 sec\n",
      " ARIMA(0,1,1)(0,0,0)[0] intercept   : AIC=1319.400, Time=0.16 sec\n",
      " ARIMA(0,1,0)(0,0,0)[0]             : AIC=1316.406, Time=0.06 sec\n",
      " ARIMA(1,1,1)(0,0,0)[0] intercept   : AIC=1320.761, Time=0.39 sec\n",
      "\n",
      "Best model:  ARIMA(0,1,0)(0,0,0)[0]          \n",
      "Total fit time: 4.113 seconds\n"
     ]
    },
    {
     "data": {
      "text/html": [
       "<table class=\"simpletable\">\n",
       "<caption>SARIMAX Results</caption>\n",
       "<tr>\n",
       "  <th>Dep. Variable:</th>           <td>y</td>        <th>  No. Observations:  </th>    <td>252</td>  \n",
       "</tr>\n",
       "<tr>\n",
       "  <th>Model:</th>           <td>SARIMAX(0, 1, 0)</td> <th>  Log Likelihood     </th> <td>-657.203</td>\n",
       "</tr>\n",
       "<tr>\n",
       "  <th>Date:</th>            <td>Mon, 13 Mar 2023</td> <th>  AIC                </th> <td>1316.406</td>\n",
       "</tr>\n",
       "<tr>\n",
       "  <th>Time:</th>                <td>23:39:22</td>     <th>  BIC                </th> <td>1319.931</td>\n",
       "</tr>\n",
       "<tr>\n",
       "  <th>Sample:</th>                  <td>0</td>        <th>  HQIC               </th> <td>1317.824</td>\n",
       "</tr>\n",
       "<tr>\n",
       "  <th></th>                      <td> - 252</td>      <th>                     </th>     <td> </td>   \n",
       "</tr>\n",
       "<tr>\n",
       "  <th>Covariance Type:</th>        <td>opg</td>       <th>                     </th>     <td> </td>   \n",
       "</tr>\n",
       "</table>\n",
       "<table class=\"simpletable\">\n",
       "<tr>\n",
       "     <td></td>       <th>coef</th>     <th>std err</th>      <th>z</th>      <th>P>|z|</th>  <th>[0.025</th>    <th>0.975]</th>  \n",
       "</tr>\n",
       "<tr>\n",
       "  <th>sigma2</th> <td>   11.0099</td> <td>    0.863</td> <td>   12.755</td> <td> 0.000</td> <td>    9.318</td> <td>   12.702</td>\n",
       "</tr>\n",
       "</table>\n",
       "<table class=\"simpletable\">\n",
       "<tr>\n",
       "  <th>Ljung-Box (L1) (Q):</th>     <td>0.85</td> <th>  Jarque-Bera (JB):  </th> <td>3.68</td>\n",
       "</tr>\n",
       "<tr>\n",
       "  <th>Prob(Q):</th>                <td>0.36</td> <th>  Prob(JB):          </th> <td>0.16</td>\n",
       "</tr>\n",
       "<tr>\n",
       "  <th>Heteroskedasticity (H):</th> <td>0.62</td> <th>  Skew:              </th> <td>0.01</td>\n",
       "</tr>\n",
       "<tr>\n",
       "  <th>Prob(H) (two-sided):</th>    <td>0.03</td> <th>  Kurtosis:          </th> <td>3.59</td>\n",
       "</tr>\n",
       "</table><br/><br/>Warnings:<br/>[1] Covariance matrix calculated using the outer product of gradients (complex-step)."
      ],
      "text/plain": [
       "<class 'statsmodels.iolib.summary.Summary'>\n",
       "\"\"\"\n",
       "                               SARIMAX Results                                \n",
       "==============================================================================\n",
       "Dep. Variable:                      y   No. Observations:                  252\n",
       "Model:               SARIMAX(0, 1, 0)   Log Likelihood                -657.203\n",
       "Date:                Mon, 13 Mar 2023   AIC                           1316.406\n",
       "Time:                        23:39:22   BIC                           1319.931\n",
       "Sample:                             0   HQIC                          1317.824\n",
       "                                - 252                                         \n",
       "Covariance Type:                  opg                                         \n",
       "==============================================================================\n",
       "                 coef    std err          z      P>|z|      [0.025      0.975]\n",
       "------------------------------------------------------------------------------\n",
       "sigma2        11.0099      0.863     12.755      0.000       9.318      12.702\n",
       "===================================================================================\n",
       "Ljung-Box (L1) (Q):                   0.85   Jarque-Bera (JB):                 3.68\n",
       "Prob(Q):                              0.36   Prob(JB):                         0.16\n",
       "Heteroskedasticity (H):               0.62   Skew:                             0.01\n",
       "Prob(H) (two-sided):                  0.03   Kurtosis:                         3.59\n",
       "===================================================================================\n",
       "\n",
       "Warnings:\n",
       "[1] Covariance matrix calculated using the outer product of gradients (complex-step).\n",
       "\"\"\""
      ]
     },
     "execution_count": 60,
     "metadata": {},
     "output_type": "execute_result"
    }
   ],
   "source": [
    "stepwise_fit=auto_arima(df,trace=True,suppress_warnings=True)\n",
    "stepwise_fit.summary()"
   ]
  },
  {
   "attachments": {},
   "cell_type": "markdown",
   "metadata": {},
   "source": [
    "Build And Train ARIMA Model"
   ]
  },
  {
   "cell_type": "code",
   "execution_count": 62,
   "metadata": {},
   "outputs": [],
   "source": [
    "model=ARIMA(train,order=(0,1,0))\n",
    "model_fit = model.fit()"
   ]
  },
  {
   "attachments": {},
   "cell_type": "markdown",
   "metadata": {},
   "source": [
    "Prediction"
   ]
  },
  {
   "cell_type": "code",
   "execution_count": 63,
   "metadata": {},
   "outputs": [
    {
     "name": "stdout",
     "output_type": "stream",
     "text": [
      "189    147.809998\n",
      "190    147.809998\n",
      "191    147.809998\n",
      "192    147.809998\n",
      "193    147.809998\n",
      "          ...    \n",
      "247    147.809998\n",
      "248    147.809998\n",
      "249    147.809998\n",
      "250    147.809998\n",
      "251    147.809998\n",
      "Name: predicted_mean, Length: 63, dtype: float64\n"
     ]
    }
   ],
   "source": [
    "pred =model_fit.predict(start=len(train),end=(len(train)+len(test)-1),typ=\"levels\")\n",
    "print(pred)\n",
    "prediction.plot(legend=True)\n",
    "df.plot(legend=True)"
   ]
  }
 ],
 "metadata": {
  "kernelspec": {
   "display_name": "Python 3",
   "language": "python",
   "name": "python3"
  },
  "language_info": {
   "codemirror_mode": {
    "name": "ipython",
    "version": 3
   },
   "file_extension": ".py",
   "mimetype": "text/x-python",
   "name": "python",
   "nbconvert_exporter": "python",
   "pygments_lexer": "ipython3",
   "version": "3.11.2"
  },
  "orig_nbformat": 4
 },
 "nbformat": 4,
 "nbformat_minor": 2
}
